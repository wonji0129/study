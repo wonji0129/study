{
 "cells": [
  {
   "cell_type": "code",
   "execution_count": null,
   "metadata": {},
   "outputs": [],
   "source": [
    "# 주피터노트북 화면 넓게 보기 위한 용도\n",
    "from IPython.core.display import display, HTML \n",
    "display(HTML(\"<style>.container { width:100% !important; }</style>\"))"
   ]
  },
  {
   "cell_type": "code",
   "execution_count": null,
   "metadata": {},
   "outputs": [],
   "source": [
    "import numpy as np\n",
    "import pandas as pd\n",
    "import matplotlib.pyplot as plt\n",
    "\n",
    "import tensorflow as tf\n",
    "from tensorflow import keras\n",
    "import boto3\n",
    "import s3fs\n",
    "\n",
    "import pathlib\n",
    "import pymysql\n",
    "from PIL import Image\n",
    "\n",
    "from dotenv import load_dotenv\n",
    "import os\n",
    "load_dotenv() # .env 파일에서 정보를 갖고 오기 위함"
   ]
  },
  {
   "cell_type": "code",
   "execution_count": null,
   "metadata": {},
   "outputs": [],
   "source": [
    "import os\n",
    "import logging\n",
    "import boto3\n",
    "from botocore.client import Config\n",
    "from botocore.exceptions import ClientError\n",
    "import numpy as np\n",
    "import urllib\n",
    "import cv2\n",
    "\n",
    "def create_presigned_url(bucket_key, expiration=3600):\n",
    "\n",
    "    s3_client = boto3.client('s3')\n",
    "    response = s3_client.generate_presigned_url('get_object',\n",
    "                                            Params={'Bucket': os.getenv('bucket'),\n",
    "                                                    'Key': bucket_key},\n",
    "                                            ExpiresIn=3600)\n",
    "    return response\n",
    "\n",
    "# def url_to_image(URL):\n",
    "#     resp = urllib.request.urlopen(URL)\n",
    "#     image = np.asarray(bytearray(resp.read()), dtype=\"uint8\")\n",
    "#     image = cv2.imdecode(image, cv2.IMREAD_COLOR)\n",
    "#     plt.imshow(image) # 실제 색과 다름\n",
    "#     return image"
   ]
  },
  {
   "cell_type": "code",
   "execution_count": null,
   "metadata": {},
   "outputs": [],
   "source": [
    "path = create_presigned_url('data/estimate/', expiration=3600)"
   ]
  },
  {
   "cell_type": "code",
   "execution_count": null,
   "metadata": {},
   "outputs": [],
   "source": [
    "path"
   ]
  },
  {
   "cell_type": "code",
   "execution_count": null,
   "metadata": {},
   "outputs": [],
   "source": [
    "# load data directly from s3 \n",
    "import pathlib\n",
    "data_path = tf.keras.utils.get_file('test', origin=path, untar=True)\n",
    "data_dir = pathlib.Path(data_path) # 하위 디렉토리 하나당 하나의 클래스\n",
    "print(data_dir)\n",
    "\n",
    "image_path_list = list(data_dir.glob('*/*.jpg'))\n",
    "image_count = len(image_path_list) "
   ]
  },
  {
   "cell_type": "code",
   "execution_count": null,
   "metadata": {},
   "outputs": [],
   "source": [
    "image_path_list # -rw-r--r--   1 wonji  staff     169760  1 28 23:18 test.tar.gz (해당 path에 생성은 됨)"
   ]
  },
  {
   "cell_type": "code",
   "execution_count": null,
   "metadata": {},
   "outputs": [],
   "source": [
    "tf.keras.preprocessing.image_dataset_from_directory( # data\n",
    "    data_dir,\n",
    "    validation_split=0.2, \n",
    "    subset='training',\n",
    "    seed=123,\n",
    "    batch_size=32\n",
    ")"
   ]
  },
  {
   "cell_type": "markdown",
   "metadata": {},
   "source": [
    "- https://stackoverflow.com/questions/54736505/ideal-way-to-read-data-in-bucket-stored-batches-of-data-for-keras-ml-training-in\n",
    "\n"
   ]
  },
  {
   "cell_type": "code",
   "execution_count": null,
   "metadata": {},
   "outputs": [],
   "source": []
  }
 ],
 "metadata": {
  "kernelspec": {
   "display_name": "Python 3",
   "language": "python",
   "name": "python3"
  },
  "language_info": {
   "codemirror_mode": {
    "name": "ipython",
    "version": 3
   },
   "file_extension": ".py",
   "mimetype": "text/x-python",
   "name": "python",
   "nbconvert_exporter": "python",
   "pygments_lexer": "ipython3",
   "version": "3.7.7"
  }
 },
 "nbformat": 4,
 "nbformat_minor": 4
}
