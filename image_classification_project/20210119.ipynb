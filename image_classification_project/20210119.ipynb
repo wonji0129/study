{
 "cells": [
  {
   "cell_type": "markdown",
   "metadata": {},
   "source": [
    "# 20210119\n",
    "- review image 데이터를 정답지(Y, N)으로 분류하여 별도 디렉토리에 저장"
   ]
  },
  {
   "cell_type": "code",
   "execution_count": 1,
   "metadata": {},
   "outputs": [
    {
     "data": {
      "text/html": [
       "<style>.container { width:100% !important; }</style>"
      ],
      "text/plain": [
       "<IPython.core.display.HTML object>"
      ]
     },
     "metadata": {},
     "output_type": "display_data"
    }
   ],
   "source": [
    "# 주피터노트북 화면 넓게 보기 위한 용도\n",
    "from IPython.core.display import display, HTML\n",
    "display(HTML(\"<style>.container { width:100% !important; }</style>\"))"
   ]
  },
  {
   "cell_type": "code",
   "execution_count": 2,
   "metadata": {},
   "outputs": [],
   "source": [
    "import numpy as np\n",
    "import pandas as pd\n",
    "\n",
    "import tensorflow as tf\n",
    "from tensorflow import keras\n",
    "import boto3\n",
    "import s3fs\n",
    "\n",
    "import pymysql\n",
    "from PIL import Image\n",
    "\n",
    "from dotenv import load_dotenv\n",
    "import os\n",
    "load_dotenv() # .env 파일에서 정보를 갖고 오기 위함"
   ]
  },
  {
   "cell_type": "code",
   "execution_count": 18,
   "metadata": {
    "scrolled": true
   },
   "outputs": [
    {
     "name": "stdout",
     "output_type": "stream",
     "text": [
      "Collecting python-dotenv\n",
      "  Downloading python_dotenv-0.15.0-py2.py3-none-any.whl (18 kB)\n",
      "Installing collected packages: python-dotenv\n",
      "Successfully installed python-dotenv-0.15.0\n"
     ]
    }
   ],
   "source": [
    "!pip install python-dotenv\n",
    "# https://medium.com/@namseok.yoo/django-%EC%97%90%EC%84%9C-python-dotenv-%EC%82%AC%EC%9A%A9%ED%95%98%EA%B8%B0-6d9b58a939ec"
   ]
  },
  {
   "cell_type": "code",
   "execution_count": 5,
   "metadata": {},
   "outputs": [],
   "source": [
    "conn = pymysql.connect(database=os.getenv('database'), user=os.getenv('user'), password=os.getenv('password'), host= 'localhost', port=3306)\n",
    "qry = '''\n",
    "    SELECT a.goods_no, a.est_no, b.image, a.point_yn\n",
    "    FROM \n",
    "    (\n",
    "        SELECT goods_no, no as est_no, point_yn\n",
    "        FROM goods_estimate\n",
    "        WHERE date_format(regi_date, '%Y%m%d') = '20201201'\n",
    "        AND type = 'style'\n",
    "    ) a\n",
    "    JOIN\n",
    "    (\n",
    "        SELECT est_no, image\n",
    "        FROM goods_estimate_image\n",
    "        WHERE date_format(rt, '%Y%m%d') = '20201201'\n",
    "        GROUP BY est_no, image HAVING count(img_no) = 1\n",
    "    ) b\n",
    "    ON a.est_no = b.est_no\n",
    "'''\n",
    "df = pd.read_sql_query(qry, conn)"
   ]
  },
  {
   "cell_type": "code",
   "execution_count": 12,
   "metadata": {},
   "outputs": [
    {
     "data": {
      "text/plain": [
       "count     6822\n",
       "unique       2\n",
       "top          Y\n",
       "freq      5945\n",
       "Name: point_yn, dtype: object"
      ]
     },
     "execution_count": 12,
     "metadata": {},
     "output_type": "execute_result"
    }
   ],
   "source": [
    "df['point_yn'].describe()"
   ]
  },
  {
   "cell_type": "code",
   "execution_count": 22,
   "metadata": {},
   "outputs": [
    {
     "data": {
      "text/html": [
       "<div>\n",
       "<style scoped>\n",
       "    .dataframe tbody tr th:only-of-type {\n",
       "        vertical-align: middle;\n",
       "    }\n",
       "\n",
       "    .dataframe tbody tr th {\n",
       "        vertical-align: top;\n",
       "    }\n",
       "\n",
       "    .dataframe thead th {\n",
       "        text-align: right;\n",
       "    }\n",
       "</style>\n",
       "<table border=\"1\" class=\"dataframe\">\n",
       "  <thead>\n",
       "    <tr style=\"text-align: right;\">\n",
       "      <th></th>\n",
       "      <th>goods_no</th>\n",
       "      <th>est_no</th>\n",
       "      <th>image</th>\n",
       "      <th>point_yn</th>\n",
       "    </tr>\n",
       "  </thead>\n",
       "  <tbody>\n",
       "    <tr>\n",
       "      <th>0</th>\n",
       "      <td>644025</td>\n",
       "      <td>3105258</td>\n",
       "      <td>/data/estimate/644025_0/gallery_5fc52d35e78a6.jpg</td>\n",
       "      <td>N</td>\n",
       "    </tr>\n",
       "    <tr>\n",
       "      <th>1</th>\n",
       "      <td>1003751</td>\n",
       "      <td>5882494</td>\n",
       "      <td>/data/estimate/1003751_0/gallery_5fc52c8300d03...</td>\n",
       "      <td>N</td>\n",
       "    </tr>\n",
       "    <tr>\n",
       "      <th>2</th>\n",
       "      <td>542281</td>\n",
       "      <td>6067380</td>\n",
       "      <td>/data/estimate/542281_0/gallery_5fc5fea7d5f7d.jpg</td>\n",
       "      <td>Y</td>\n",
       "    </tr>\n",
       "    <tr>\n",
       "      <th>3</th>\n",
       "      <td>841463</td>\n",
       "      <td>6769001</td>\n",
       "      <td>/data/estimate/841463_0/gallery_5fc52c322bde6.jpg</td>\n",
       "      <td>N</td>\n",
       "    </tr>\n",
       "    <tr>\n",
       "      <th>4</th>\n",
       "      <td>1198380</td>\n",
       "      <td>7641604</td>\n",
       "      <td>/data/estimate/1198380_0/gallery_5fc5a39d378f0...</td>\n",
       "      <td>Y</td>\n",
       "    </tr>\n",
       "  </tbody>\n",
       "</table>\n",
       "</div>"
      ],
      "text/plain": [
       "   goods_no   est_no                                              image  \\\n",
       "0    644025  3105258  /data/estimate/644025_0/gallery_5fc52d35e78a6.jpg   \n",
       "1   1003751  5882494  /data/estimate/1003751_0/gallery_5fc52c8300d03...   \n",
       "2    542281  6067380  /data/estimate/542281_0/gallery_5fc5fea7d5f7d.jpg   \n",
       "3    841463  6769001  /data/estimate/841463_0/gallery_5fc52c322bde6.jpg   \n",
       "4   1198380  7641604  /data/estimate/1198380_0/gallery_5fc5a39d378f0...   \n",
       "\n",
       "  point_yn  \n",
       "0        N  \n",
       "1        N  \n",
       "2        Y  \n",
       "3        N  \n",
       "4        Y  "
      ]
     },
     "execution_count": 22,
     "metadata": {},
     "output_type": "execute_result"
    }
   ],
   "source": [
    "df.head()"
   ]
  },
  {
   "cell_type": "code",
   "execution_count": null,
   "metadata": {},
   "outputs": [],
   "source": [
    "def get_imgage(goods_no, img_path):\n",
    "    file = boto3.resource('s3').Object('musinsa', img_path[1:]).get()\n",
    "    img = np.array(Image.open(file['Body']))\n",
    "    return img"
   ]
  }
 ],
 "metadata": {
  "kernelspec": {
   "display_name": "Python 3",
   "language": "python",
   "name": "python3"
  },
  "language_info": {
   "codemirror_mode": {
    "name": "ipython",
    "version": 3
   },
   "file_extension": ".py",
   "mimetype": "text/x-python",
   "name": "python",
   "nbconvert_exporter": "python",
   "pygments_lexer": "ipython3",
   "version": "3.7.7"
  }
 },
 "nbformat": 4,
 "nbformat_minor": 4
}
