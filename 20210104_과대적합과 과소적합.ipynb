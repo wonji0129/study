{
 "cells": [
  {
   "cell_type": "markdown",
   "metadata": {},
   "source": [
    "# 과대적합과 과소적합\n",
    "https://www.tensorflow.org/tutorials/keras/overfit_and_underfit?hl=ko"
   ]
  },
  {
   "cell_type": "markdown",
   "metadata": {},
   "source": [
    "과대적합(overfitting)\n",
    "- 테스트 세트(또는 이전에 본 적 없는 데이터)에 잘 일반화하기 위해 과대적합 개선해야 함\n",
    "- 1) 더 많은 훈련 데이터 2) regularization 이용 (모델이 저장하는 정보의 양과 종류에 제약) \n",
    "\n",
    "과소적합(underfitting)\n",
    "- 네트워크가 훈련 세트에서 적절한 패턴을 학습하지 못함\n",
    "- 모델이 너무 단순하거나, 규제가 너무 많거나, 그냥 단순히 충분히 오래 훈련하지 않는 경우"
   ]
  },
  {
   "cell_type": "code",
   "execution_count": 2,
   "metadata": {},
   "outputs": [
    {
     "name": "stdout",
     "output_type": "stream",
     "text": [
      "2.5.0-dev20201230\n"
     ]
    }
   ],
   "source": [
    "import tensorflow as tf \n",
    "from tensorflow import keras\n",
    "\n",
    "import numpy as np\n",
    "import matplotlib.pyplot as plt \n",
    "\n",
    "print(tf.__version__)"
   ]
  },
  {
   "cell_type": "markdown",
   "metadata": {},
   "source": [
    "imdb 데이터를 멀티-핫 인코딩(multi-hot encoding)으로 변환 -> 이 모델은 훈련 세트에 빠르게 과대적합될 것"
   ]
  },
  {
   "cell_type": "code",
   "execution_count": 6,
   "metadata": {
    "collapsed": true
   },
   "outputs": [
    {
     "name": "stderr",
     "output_type": "stream",
     "text": [
      "<string>:6: VisibleDeprecationWarning: Creating an ndarray from ragged nested sequences (which is a list-or-tuple of lists-or-tuples-or ndarrays with different lengths or shapes) is deprecated. If you meant to do this, you must specify 'dtype=object' when creating the ndarray\n",
      "/Users/wonji/.pyenv/versions/3.7.7/lib/python3.7/site-packages/tensorflow/python/keras/datasets/imdb.py:159: VisibleDeprecationWarning: Creating an ndarray from ragged nested sequences (which is a list-or-tuple of lists-or-tuples-or ndarrays with different lengths or shapes) is deprecated. If you meant to do this, you must specify 'dtype=object' when creating the ndarray\n",
      "  x_train, y_train = np.array(xs[:idx]), np.array(labels[:idx])\n",
      "/Users/wonji/.pyenv/versions/3.7.7/lib/python3.7/site-packages/tensorflow/python/keras/datasets/imdb.py:160: VisibleDeprecationWarning: Creating an ndarray from ragged nested sequences (which is a list-or-tuple of lists-or-tuples-or ndarrays with different lengths or shapes) is deprecated. If you meant to do this, you must specify 'dtype=object' when creating the ndarray\n",
      "  x_test, y_test = np.array(xs[idx:]), np.array(labels[idx:])\n"
     ]
    }
   ],
   "source": [
    "NUM_WORDS = 1000\n",
    "(train_data, train_labels), (test_data, test_labels) = keras.datasets.imdb.load_data(num_words=NUM_WORDS)"
   ]
  },
  {
   "cell_type": "code",
   "execution_count": 8,
   "metadata": {
    "scrolled": true
   },
   "outputs": [
    {
     "data": {
      "text/plain": [
       "[1,\n",
       " 591,\n",
       " 202,\n",
       " 14,\n",
       " 31,\n",
       " 6,\n",
       " 717,\n",
       " 10,\n",
       " 10,\n",
       " 2,\n",
       " 2,\n",
       " 5,\n",
       " 4,\n",
       " 360,\n",
       " 7,\n",
       " 4,\n",
       " 177,\n",
       " 2,\n",
       " 394,\n",
       " 354,\n",
       " 4,\n",
       " 123,\n",
       " 9,\n",
       " 2,\n",
       " 2,\n",
       " 2,\n",
       " 10,\n",
       " 10,\n",
       " 13,\n",
       " 92,\n",
       " 124,\n",
       " 89,\n",
       " 488,\n",
       " 2,\n",
       " 100,\n",
       " 28,\n",
       " 2,\n",
       " 14,\n",
       " 31,\n",
       " 23,\n",
       " 27,\n",
       " 2,\n",
       " 29,\n",
       " 220,\n",
       " 468,\n",
       " 8,\n",
       " 124,\n",
       " 14,\n",
       " 286,\n",
       " 170,\n",
       " 8,\n",
       " 157,\n",
       " 46,\n",
       " 5,\n",
       " 27,\n",
       " 239,\n",
       " 16,\n",
       " 179,\n",
       " 2,\n",
       " 38,\n",
       " 32,\n",
       " 25,\n",
       " 2,\n",
       " 451,\n",
       " 202,\n",
       " 14,\n",
       " 6,\n",
       " 717]"
      ]
     },
     "execution_count": 8,
     "metadata": {},
     "output_type": "execute_result"
    }
   ],
   "source": [
    "test_data[0] # 각 단어가 숫자로 표현됨"
   ]
  },
  {
   "cell_type": "code",
   "execution_count": 17,
   "metadata": {},
   "outputs": [],
   "source": [
    "def multi_hot_sequences(sequences, dimension):\n",
    "    results = np.zeros((len(sequences), dimension)) # 데이터 수, 각 데이터의 디멘젼\n",
    "    for i, word_indices in enumerate(sequences):\n",
    "        results[i, word_indices] = 1.0\n",
    "    return results\n",
    "\n",
    "# train_data = multi_hot_sequences(train_data, dimension=NUM_WORDS)\n",
    "# test_data = multi_hot_sequences(test_data, dimension=NUM_WORDS)"
   ]
  },
  {
   "cell_type": "code",
   "execution_count": 18,
   "metadata": {},
   "outputs": [
    {
     "data": {
      "text/plain": [
       "[<matplotlib.lines.Line2D at 0x166ba6990>]"
      ]
     },
     "execution_count": 18,
     "metadata": {},
     "output_type": "execute_result"
    },
    {
     "data": {
      "image/png": "[encoded data removed]",
      "text/plain": [
       "<Figure size 432x288 with 1 Axes>"
      ]
     },
     "metadata": {
      "needs_background": "light"
     },
     "output_type": "display_data"
    }
   ],
   "source": [
    "plt.plot(train_data[0]) # 해당 단어가 있으면 1, 없으면 0 "
   ]
  },
  {
   "cell_type": "markdown",
   "metadata": {},
   "source": [
    "과대적합 막는 방법 \n",
    "- 모델 축소 (모델에 학습 가능한 parameter 수를 줄이기 - layer 혹은 unit 개수)\n",
    "- 딥러닝: parameter 수 = 모델의 \"용량\"으로 봄"
   ]
  },
  {
   "cell_type": "markdown",
   "metadata": {},
   "source": [
    "어떤 모델의 (층의 개수나 뉴런 개수에 해당하는) 적절한 크기나 구조를 결정하는 마법같은 공식은 없습니다.\n",
    "- 새로운 층을 추가하거나 층 크기를 늘리면서 실험해봐야 함 "
   ]
  },
  {
   "cell_type": "code",
   "execution_count": 20,
   "metadata": {},
   "outputs": [],
   "source": [
    "# 기준 모델 만들기 (축소할 것인가? 확대할 것인가?)\n",
    "baseline_model = keras.Sequential([\n",
    "    keras.layers.Dense(16, activation='relu', input_shape=(NUM_WORDS,)),\n",
    "    keras.layers.Dense(16, activation='relu'),\n",
    "    keras.layers.Dense(1, activation='sigmoid')\n",
    "])"
   ]
  },
  {
   "cell_type": "code",
   "execution_count": 21,
   "metadata": {},
   "outputs": [
    {
     "name": "stdout",
     "output_type": "stream",
     "text": [
      "Model: \"sequential\"\n",
      "_________________________________________________________________\n",
      "Layer (type)                 Output Shape              Param #   \n",
      "=================================================================\n",
      "dense (Dense)                (None, 16)                16016     \n",
      "_________________________________________________________________\n",
      "dense_1 (Dense)              (None, 16)                272       \n",
      "_________________________________________________________________\n",
      "dense_2 (Dense)              (None, 1)                 17        \n",
      "=================================================================\n",
      "Total params: 16,305\n",
      "Trainable params: 16,305\n",
      "Non-trainable params: 0\n",
      "_________________________________________________________________\n"
     ]
    }
   ],
   "source": [
    "baseline_model.compile(optimizer='adam', loss='binary_crossentropy',\n",
    "                       metrics=['accuracy', 'binary_crossentropy'])\n",
    "baseline_model.summary()"
   ]
  },
  {
   "cell_type": "code",
   "execution_count": 22,
   "metadata": {
    "scrolled": true
   },
   "outputs": [
    {
     "name": "stdout",
     "output_type": "stream",
     "text": [
      "Epoch 1/20\n",
      "49/49 - 1s - loss: 0.6028 - accuracy: 0.6825 - binary_crossentropy: 0.6028 - val_loss: 0.4574 - val_accuracy: 0.8107 - val_binary_crossentropy: 0.4574\n",
      "Epoch 2/20\n",
      "49/49 - 0s - loss: 0.3788 - accuracy: 0.8426 - binary_crossentropy: 0.3788 - val_loss: 0.3445 - val_accuracy: 0.8536 - val_binary_crossentropy: 0.3445\n",
      "Epoch 3/20\n",
      "49/49 - 0s - loss: 0.3227 - accuracy: 0.8666 - binary_crossentropy: 0.3227 - val_loss: 0.3330 - val_accuracy: 0.8590 - val_binary_crossentropy: 0.3330\n",
      "Epoch 4/20\n",
      "49/49 - 0s - loss: 0.3069 - accuracy: 0.8724 - binary_crossentropy: 0.3069 - val_loss: 0.3309 - val_accuracy: 0.8600 - val_binary_crossentropy: 0.3309\n",
      "Epoch 5/20\n",
      "49/49 - 0s - loss: 0.3030 - accuracy: 0.8742 - binary_crossentropy: 0.3030 - val_loss: 0.3322 - val_accuracy: 0.8582 - val_binary_crossentropy: 0.3322\n",
      "Epoch 6/20\n",
      "49/49 - 0s - loss: 0.2938 - accuracy: 0.8803 - binary_crossentropy: 0.2938 - val_loss: 0.3291 - val_accuracy: 0.8596 - val_binary_crossentropy: 0.3291\n",
      "Epoch 7/20\n",
      "49/49 - 0s - loss: 0.2887 - accuracy: 0.8822 - binary_crossentropy: 0.2887 - val_loss: 0.3296 - val_accuracy: 0.8600 - val_binary_crossentropy: 0.3296\n",
      "Epoch 8/20\n",
      "49/49 - 0s - loss: 0.2836 - accuracy: 0.8837 - binary_crossentropy: 0.2836 - val_loss: 0.3358 - val_accuracy: 0.8566 - val_binary_crossentropy: 0.3358\n",
      "Epoch 9/20\n",
      "49/49 - 0s - loss: 0.2782 - accuracy: 0.8865 - binary_crossentropy: 0.2782 - val_loss: 0.3323 - val_accuracy: 0.8580 - val_binary_crossentropy: 0.3323\n",
      "Epoch 10/20\n",
      "49/49 - 0s - loss: 0.2719 - accuracy: 0.8886 - binary_crossentropy: 0.2719 - val_loss: 0.3362 - val_accuracy: 0.8565 - val_binary_crossentropy: 0.3362\n",
      "Epoch 11/20\n",
      "49/49 - 0s - loss: 0.2666 - accuracy: 0.8906 - binary_crossentropy: 0.2666 - val_loss: 0.3379 - val_accuracy: 0.8558 - val_binary_crossentropy: 0.3379\n",
      "Epoch 12/20\n",
      "49/49 - 0s - loss: 0.2603 - accuracy: 0.8937 - binary_crossentropy: 0.2603 - val_loss: 0.3394 - val_accuracy: 0.8546 - val_binary_crossentropy: 0.3394\n",
      "Epoch 13/20\n",
      "49/49 - 0s - loss: 0.2549 - accuracy: 0.8969 - binary_crossentropy: 0.2549 - val_loss: 0.3446 - val_accuracy: 0.8524 - val_binary_crossentropy: 0.3446\n",
      "Epoch 14/20\n",
      "49/49 - 0s - loss: 0.2486 - accuracy: 0.8994 - binary_crossentropy: 0.2486 - val_loss: 0.3519 - val_accuracy: 0.8501 - val_binary_crossentropy: 0.3519\n",
      "Epoch 15/20\n",
      "49/49 - 0s - loss: 0.2443 - accuracy: 0.9011 - binary_crossentropy: 0.2443 - val_loss: 0.3521 - val_accuracy: 0.8504 - val_binary_crossentropy: 0.3521\n",
      "Epoch 16/20\n",
      "49/49 - 0s - loss: 0.2365 - accuracy: 0.9050 - binary_crossentropy: 0.2365 - val_loss: 0.3599 - val_accuracy: 0.8488 - val_binary_crossentropy: 0.3599\n",
      "Epoch 17/20\n",
      "49/49 - 0s - loss: 0.2313 - accuracy: 0.9069 - binary_crossentropy: 0.2313 - val_loss: 0.3649 - val_accuracy: 0.8463 - val_binary_crossentropy: 0.3649\n",
      "Epoch 18/20\n",
      "49/49 - 0s - loss: 0.2245 - accuracy: 0.9100 - binary_crossentropy: 0.2245 - val_loss: 0.3676 - val_accuracy: 0.8456 - val_binary_crossentropy: 0.3676\n",
      "Epoch 19/20\n",
      "49/49 - 0s - loss: 0.2174 - accuracy: 0.9142 - binary_crossentropy: 0.2174 - val_loss: 0.3778 - val_accuracy: 0.8445 - val_binary_crossentropy: 0.3778\n",
      "Epoch 20/20\n",
      "49/49 - 0s - loss: 0.2132 - accuracy: 0.9160 - binary_crossentropy: 0.2132 - val_loss: 0.3799 - val_accuracy: 0.8426 - val_binary_crossentropy: 0.3799\n"
     ]
    }
   ],
   "source": [
    "baseline_history = baseline_model.fit(train_data, train_labels, epochs=20,\n",
    "                                      batch_size=512,\n",
    "                                      validation_data=(test_data, test_labels), # 왜 test로..?\n",
    "                                      verbose=2)"
   ]
  },
  {
   "cell_type": "code",
   "execution_count": 24,
   "metadata": {},
   "outputs": [
    {
     "name": "stdout",
     "output_type": "stream",
     "text": [
      "Model: \"sequential_2\"\n",
      "_________________________________________________________________\n",
      "Layer (type)                 Output Shape              Param #   \n",
      "=================================================================\n",
      "dense_6 (Dense)              (None, 4)                 4004      \n",
      "_________________________________________________________________\n",
      "dense_7 (Dense)              (None, 4)                 20        \n",
      "_________________________________________________________________\n",
      "dense_8 (Dense)              (None, 1)                 5         \n",
      "=================================================================\n",
      "Total params: 4,029\n",
      "Trainable params: 4,029\n",
      "Non-trainable params: 0\n",
      "_________________________________________________________________\n"
     ]
    }
   ],
   "source": [
    "smaller_model = keras.Sequential([\n",
    "    keras.layers.Dense(4, activation='relu', input_shape=(NUM_WORDS,)),\n",
    "    keras.layers.Dense(4, activation='relu'),\n",
    "    keras.layers.Dense(1, activation='sigmoid')\n",
    "])\n",
    "\n",
    "smaller_model.compile(optimizer='adam', loss='binary_crossentropy',\n",
    "                      metrics=['accuracy', 'binary_crossentropy'])\n",
    "\n",
    "smaller_model.summary() # params가 훨씬 줄어듦"
   ]
  },
  {
   "cell_type": "code",
   "execution_count": 25,
   "metadata": {
    "scrolled": true
   },
   "outputs": [
    {
     "name": "stdout",
     "output_type": "stream",
     "text": [
      "Epoch 1/20\n",
      "49/49 - 1s - loss: 0.6245 - accuracy: 0.6687 - binary_crossentropy: 0.6245 - val_loss: 0.5254 - val_accuracy: 0.7834 - val_binary_crossentropy: 0.5254\n",
      "Epoch 2/20\n",
      "49/49 - 0s - loss: 0.4500 - accuracy: 0.8190 - binary_crossentropy: 0.4500 - val_loss: 0.4058 - val_accuracy: 0.8357 - val_binary_crossentropy: 0.4058\n",
      "Epoch 3/20\n",
      "49/49 - 0s - loss: 0.3695 - accuracy: 0.8528 - binary_crossentropy: 0.3695 - val_loss: 0.3616 - val_accuracy: 0.8507 - val_binary_crossentropy: 0.3616\n",
      "Epoch 4/20\n",
      "49/49 - 0s - loss: 0.3360 - accuracy: 0.8639 - binary_crossentropy: 0.3360 - val_loss: 0.3433 - val_accuracy: 0.8560 - val_binary_crossentropy: 0.3433\n",
      "Epoch 5/20\n",
      "49/49 - 0s - loss: 0.3203 - accuracy: 0.8690 - binary_crossentropy: 0.3203 - val_loss: 0.3348 - val_accuracy: 0.8581 - val_binary_crossentropy: 0.3348\n",
      "Epoch 6/20\n",
      "49/49 - 0s - loss: 0.3117 - accuracy: 0.8719 - binary_crossentropy: 0.3117 - val_loss: 0.3304 - val_accuracy: 0.8603 - val_binary_crossentropy: 0.3304\n",
      "Epoch 7/20\n",
      "49/49 - 0s - loss: 0.3061 - accuracy: 0.8748 - binary_crossentropy: 0.3061 - val_loss: 0.3326 - val_accuracy: 0.8584 - val_binary_crossentropy: 0.3326\n",
      "Epoch 8/20\n",
      "49/49 - 0s - loss: 0.3031 - accuracy: 0.8761 - binary_crossentropy: 0.3031 - val_loss: 0.3285 - val_accuracy: 0.8605 - val_binary_crossentropy: 0.3285\n",
      "Epoch 9/20\n",
      "49/49 - 0s - loss: 0.3006 - accuracy: 0.8768 - binary_crossentropy: 0.3006 - val_loss: 0.3289 - val_accuracy: 0.8604 - val_binary_crossentropy: 0.3289\n",
      "Epoch 10/20\n",
      "49/49 - 0s - loss: 0.3000 - accuracy: 0.8772 - binary_crossentropy: 0.3000 - val_loss: 0.3302 - val_accuracy: 0.8605 - val_binary_crossentropy: 0.3302\n",
      "Epoch 11/20\n",
      "49/49 - 0s - loss: 0.2988 - accuracy: 0.8778 - binary_crossentropy: 0.2988 - val_loss: 0.3294 - val_accuracy: 0.8600 - val_binary_crossentropy: 0.3294\n",
      "Epoch 12/20\n",
      "49/49 - 0s - loss: 0.2976 - accuracy: 0.8780 - binary_crossentropy: 0.2976 - val_loss: 0.3287 - val_accuracy: 0.8594 - val_binary_crossentropy: 0.3287\n",
      "Epoch 13/20\n",
      "49/49 - 0s - loss: 0.2978 - accuracy: 0.8785 - binary_crossentropy: 0.2978 - val_loss: 0.3310 - val_accuracy: 0.8596 - val_binary_crossentropy: 0.3310\n",
      "Epoch 14/20\n",
      "49/49 - 0s - loss: 0.2970 - accuracy: 0.8788 - binary_crossentropy: 0.2970 - val_loss: 0.3299 - val_accuracy: 0.8597 - val_binary_crossentropy: 0.3299\n",
      "Epoch 15/20\n",
      "49/49 - 0s - loss: 0.2965 - accuracy: 0.8784 - binary_crossentropy: 0.2965 - val_loss: 0.3304 - val_accuracy: 0.8591 - val_binary_crossentropy: 0.3304\n",
      "Epoch 16/20\n",
      "49/49 - 0s - loss: 0.2966 - accuracy: 0.8783 - binary_crossentropy: 0.2966 - val_loss: 0.3309 - val_accuracy: 0.8587 - val_binary_crossentropy: 0.3309\n",
      "Epoch 17/20\n",
      "49/49 - 0s - loss: 0.2966 - accuracy: 0.8785 - binary_crossentropy: 0.2966 - val_loss: 0.3315 - val_accuracy: 0.8586 - val_binary_crossentropy: 0.3315\n",
      "Epoch 18/20\n",
      "49/49 - 0s - loss: 0.2963 - accuracy: 0.8782 - binary_crossentropy: 0.2963 - val_loss: 0.3306 - val_accuracy: 0.8599 - val_binary_crossentropy: 0.3306\n",
      "Epoch 19/20\n",
      "49/49 - 0s - loss: 0.2956 - accuracy: 0.8777 - binary_crossentropy: 0.2956 - val_loss: 0.3330 - val_accuracy: 0.8592 - val_binary_crossentropy: 0.3330\n",
      "Epoch 20/20\n",
      "49/49 - 0s - loss: 0.2955 - accuracy: 0.8792 - binary_crossentropy: 0.2955 - val_loss: 0.3313 - val_accuracy: 0.8588 - val_binary_crossentropy: 0.3313\n"
     ]
    }
   ],
   "source": [
    "smaller_history = smaller_model.fit(train_data,\n",
    "                                    train_labels,\n",
    "                                    epochs=20,\n",
    "                                    batch_size=512,\n",
    "                                    validation_data=(test_data, test_labels),\n",
    "                                    verbose=2)"
   ]
  },
  {
   "cell_type": "code",
   "execution_count": 26,
   "metadata": {},
   "outputs": [],
   "source": [
    "bigger_model = keras.models.Sequential([\n",
    "    keras.layers.Dense(512, activation='relu', input_shape=(NUM_WORDS,)),\n",
    "    keras.layers.Dense(512, activation='relu'),\n",
    "    keras.layers.Dense(1, activation='sigmoid')\n",
    "])"
   ]
  },
  {
   "cell_type": "code",
   "execution_count": 27,
   "metadata": {},
   "outputs": [
    {
     "name": "stdout",
     "output_type": "stream",
     "text": [
      "Model: \"sequential_3\"\n",
      "_________________________________________________________________\n",
      "Layer (type)                 Output Shape              Param #   \n",
      "=================================================================\n",
      "dense_9 (Dense)              (None, 512)               512512    \n",
      "_________________________________________________________________\n",
      "dense_10 (Dense)             (None, 512)               262656    \n",
      "_________________________________________________________________\n",
      "dense_11 (Dense)             (None, 1)                 513       \n",
      "=================================================================\n",
      "Total params: 775,681\n",
      "Trainable params: 775,681\n",
      "Non-trainable params: 0\n",
      "_________________________________________________________________\n"
     ]
    }
   ],
   "source": [
    "bigger_model.compile(optimizer='adam',\n",
    "                     loss='binary_crossentropy',\n",
    "                     metrics=['accuracy','binary_crossentropy'])\n",
    "\n",
    "bigger_model.summary()"
   ]
  },
  {
   "cell_type": "code",
   "execution_count": 28,
   "metadata": {
    "scrolled": true
   },
   "outputs": [
    {
     "name": "stdout",
     "output_type": "stream",
     "text": [
      "Epoch 1/20\n",
      "49/49 - 1s - loss: 0.4579 - accuracy: 0.7716 - binary_crossentropy: 0.4579 - val_loss: 0.3363 - val_accuracy: 0.8571 - val_binary_crossentropy: 0.3363\n",
      "Epoch 2/20\n",
      "49/49 - 0s - loss: 0.2914 - accuracy: 0.8780 - binary_crossentropy: 0.2914 - val_loss: 0.3214 - val_accuracy: 0.8604 - val_binary_crossentropy: 0.3214\n",
      "Epoch 3/20\n",
      "49/49 - 0s - loss: 0.2261 - accuracy: 0.9120 - binary_crossentropy: 0.2261 - val_loss: 0.3348 - val_accuracy: 0.8561 - val_binary_crossentropy: 0.3348\n",
      "Epoch 4/20\n",
      "49/49 - 0s - loss: 0.1095 - accuracy: 0.9674 - binary_crossentropy: 0.1095 - val_loss: 0.4145 - val_accuracy: 0.8495 - val_binary_crossentropy: 0.4145\n",
      "Epoch 5/20\n",
      "49/49 - 0s - loss: 0.0235 - accuracy: 0.9966 - binary_crossentropy: 0.0235 - val_loss: 0.5248 - val_accuracy: 0.8486 - val_binary_crossentropy: 0.5248\n",
      "Epoch 6/20\n",
      "49/49 - 0s - loss: 0.0043 - accuracy: 0.9998 - binary_crossentropy: 0.0043 - val_loss: 0.6196 - val_accuracy: 0.8518 - val_binary_crossentropy: 0.6196\n",
      "Epoch 7/20\n",
      "49/49 - 0s - loss: 0.0011 - accuracy: 1.0000 - binary_crossentropy: 0.0011 - val_loss: 0.6600 - val_accuracy: 0.8525 - val_binary_crossentropy: 0.6600\n",
      "Epoch 8/20\n",
      "49/49 - 0s - loss: 5.8738e-04 - accuracy: 1.0000 - binary_crossentropy: 5.8738e-04 - val_loss: 0.6881 - val_accuracy: 0.8520 - val_binary_crossentropy: 0.6881\n",
      "Epoch 9/20\n",
      "49/49 - 0s - loss: 4.1907e-04 - accuracy: 1.0000 - binary_crossentropy: 4.1907e-04 - val_loss: 0.7087 - val_accuracy: 0.8518 - val_binary_crossentropy: 0.7087\n",
      "Epoch 10/20\n",
      "49/49 - 0s - loss: 3.2181e-04 - accuracy: 1.0000 - binary_crossentropy: 3.2181e-04 - val_loss: 0.7245 - val_accuracy: 0.8521 - val_binary_crossentropy: 0.7245\n",
      "Epoch 11/20\n",
      "49/49 - 0s - loss: 2.5574e-04 - accuracy: 1.0000 - binary_crossentropy: 2.5574e-04 - val_loss: 0.7393 - val_accuracy: 0.8520 - val_binary_crossentropy: 0.7393\n",
      "Epoch 12/20\n",
      "49/49 - 0s - loss: 2.0982e-04 - accuracy: 1.0000 - binary_crossentropy: 2.0982e-04 - val_loss: 0.7525 - val_accuracy: 0.8524 - val_binary_crossentropy: 0.7525\n",
      "Epoch 13/20\n",
      "49/49 - 0s - loss: 1.7590e-04 - accuracy: 1.0000 - binary_crossentropy: 1.7590e-04 - val_loss: 0.7640 - val_accuracy: 0.8520 - val_binary_crossentropy: 0.7640\n",
      "Epoch 14/20\n",
      "49/49 - 0s - loss: 1.4831e-04 - accuracy: 1.0000 - binary_crossentropy: 1.4831e-04 - val_loss: 0.7749 - val_accuracy: 0.8524 - val_binary_crossentropy: 0.7749\n",
      "Epoch 15/20\n",
      "49/49 - 0s - loss: 1.2757e-04 - accuracy: 1.0000 - binary_crossentropy: 1.2757e-04 - val_loss: 0.7848 - val_accuracy: 0.8522 - val_binary_crossentropy: 0.7848\n",
      "Epoch 16/20\n",
      "49/49 - 0s - loss: 1.1070e-04 - accuracy: 1.0000 - binary_crossentropy: 1.1070e-04 - val_loss: 0.7945 - val_accuracy: 0.8525 - val_binary_crossentropy: 0.7945\n",
      "Epoch 17/20\n",
      "49/49 - 0s - loss: 9.6902e-05 - accuracy: 1.0000 - binary_crossentropy: 9.6902e-05 - val_loss: 0.8038 - val_accuracy: 0.8526 - val_binary_crossentropy: 0.8038\n",
      "Epoch 18/20\n",
      "49/49 - 0s - loss: 8.5669e-05 - accuracy: 1.0000 - binary_crossentropy: 8.5669e-05 - val_loss: 0.8115 - val_accuracy: 0.8519 - val_binary_crossentropy: 0.8115\n",
      "Epoch 19/20\n",
      "49/49 - 0s - loss: 7.6063e-05 - accuracy: 1.0000 - binary_crossentropy: 7.6063e-05 - val_loss: 0.8200 - val_accuracy: 0.8525 - val_binary_crossentropy: 0.8200\n",
      "Epoch 20/20\n",
      "49/49 - 0s - loss: 6.8030e-05 - accuracy: 1.0000 - binary_crossentropy: 6.8030e-05 - val_loss: 0.8273 - val_accuracy: 0.8521 - val_binary_crossentropy: 0.8273\n"
     ]
    }
   ],
   "source": [
    "bigger_history = bigger_model.fit(train_data, train_labels,\n",
    "                                  epochs=20,\n",
    "                                  batch_size=512,\n",
    "                                  validation_data=(test_data, test_labels),\n",
    "                                  verbose=2)"
   ]
  },
  {
   "cell_type": "code",
   "execution_count": 29,
   "metadata": {},
   "outputs": [
    {
     "data": {
      "image/png": "[encoded data removed]",
      "text/plain": [
       "<Figure size 1152x720 with 1 Axes>"
      ]
     },
     "metadata": {
      "needs_background": "light"
     },
     "output_type": "display_data"
    }
   ],
   "source": [
    "def plot_history(histories, key='binary_crossentropy'):\n",
    "    plt.figure(figsize=(16,10))\n",
    "    for name, history in histories:\n",
    "        val = plt.plot(history.epoch, history.history['val_' + key], \n",
    "                       '--', label=name.title()+' Val')\n",
    "        plt.plot(history.epoch, history.history[key], color=val[0].get_color(),\n",
    "                 label=name.title()+' Train')\n",
    "    \n",
    "    plt.xlabel(\"epochs\")\n",
    "    plt.ylabel(key.replace('_', '').title())\n",
    "    plt.legend()\n",
    "    \n",
    "    plt.xlim([0, max(history.epoch)])\n",
    "    \n",
    "\n",
    "plot_history([('baseline', baseline_history),\n",
    "              ('smaller', smaller_history),\n",
    "              ('bigger', bigger_history)])\n",
    "   "
   ]
  },
  {
   "cell_type": "markdown",
   "metadata": {},
   "source": [
    "weight regularization\n",
    "- \"간단한 모델\"은 모델 파라미터의 entropy가 낮은 모델(모델 파라미터 분포가 균일해지도록)\n",
    "- L1: 가중치 절대값에 비례 -> 가중치를 0으로 만들기도 함\n",
    "- L2: 가중치 제곱에 비례 (weight decay) -> 가중치를 0 가까이 만드나, 0까지는 안 됨"
   ]
  },
  {
   "cell_type": "code",
   "execution_count": null,
   "metadata": {},
   "outputs": [],
   "source": [
    "l2_model.compile(optimizer='adam',\n",
    "                 loss='binary_crossentropy',\n",
    "                 metrics=['accuracy', 'binary_crossentropy'])\n",
    "\n",
    "l2_model_history = l2_model.fit(train_data, train_labels,\n",
    "                                epochs=20,\n",
    "                                batch_size=512,\n",
    "                                validation_data=(test_data, test_labels),\n",
    "                                verbose=2)"
   ]
  }
 ],
 "metadata": {
  "kernelspec": {
   "display_name": "Python 3",
   "language": "python",
   "name": "python3"
  },
  "language_info": {
   "codemirror_mode": {
    "name": "ipython",
    "version": 3
   },
   "file_extension": ".py",
   "mimetype": "text/x-python",
   "name": "python",
   "nbconvert_exporter": "python",
   "pygments_lexer": "ipython3",
   "version": "3.7.7"
  }
 },
 "nbformat": 4,
 "nbformat_minor": 4
}
