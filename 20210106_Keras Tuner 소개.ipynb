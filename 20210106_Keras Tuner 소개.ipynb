{
 "cells": [
  {
   "cell_type": "markdown",
   "metadata": {},
   "source": [
    "# Keras Tuner 소개\n",
    "- https://www.tensorflow.org/tutorials/keras/keras_tuner\n",
    "- keras_tuner: TensorFlow 프로그램을 위한 최적의 하이퍼파라미터 세트를 선택하는 데 도움이 되는 라이브러리\n",
    "\n",
    "하이퍼파라미터: 학습 프로세스와 ML 모델의 토폴로지를 제어하는 변수\n",
    "1. 모델 하이퍼파라미터: 히든 레이어 수, 너비 등\n",
    "2. 알고리즘 하이퍼파라미터: SGD(Stochastic Gradient Descnet) learning ratio, KNN의 이웃수"
   ]
  },
  {
   "cell_type": "code",
   "execution_count": 1,
   "metadata": {},
   "outputs": [],
   "source": [
    "import tensorflow as tf \n",
    "from tensorflow import keras\n",
    "\n",
    "import IPython"
   ]
  },
  {
   "cell_type": "code",
   "execution_count": 2,
   "metadata": {},
   "outputs": [],
   "source": [
    "!pip install -q -U keras-tuner"
   ]
  },
  {
   "cell_type": "code",
   "execution_count": 3,
   "metadata": {},
   "outputs": [],
   "source": [
    "import kerastuner as kt "
   ]
  },
  {
   "cell_type": "code",
   "execution_count": 4,
   "metadata": {},
   "outputs": [],
   "source": [
    "(img_train, label_train), (img_test, label_test) = keras.datasets.fashion_mnist.load_data()"
   ]
  },
  {
   "cell_type": "code",
   "execution_count": 6,
   "metadata": {},
   "outputs": [],
   "source": [
    "img_train = img_train.astype('float32') / 255.0\n",
    "img_test = img_test.astype('float32') / 255.0"
   ]
  },
  {
   "cell_type": "markdown",
   "metadata": {},
   "source": [
    "hypermodel 정의 (hypertuning 할 모델): 모델 아키텍쳐 + 하이퍼파라미터 search space\n",
    "- model builder function 이용\n",
    "- KerasTuner API에서 HyperModel의 서브 클래스 생성\n",
    "\n",
    "pre-defined HyperModel도 이용 가능: HyperXception, HyperResNet for computer vision applications."
   ]
  },
  {
   "cell_type": "markdown",
   "metadata": {},
   "source": [
    "model builder function\n",
    "- compiled model을 리턴\n",
    "- uses hyperparameters you define inline to hypertune the model."
   ]
  },
  {
   "cell_type": "code",
   "execution_count": 7,
   "metadata": {},
   "outputs": [],
   "source": [
    "def model_builder(hp):\n",
    "    model = keras.Sequential()\n",
    "    model.add(keras.layers.Flatten(input_shape=(28,28)))\n",
    "\n",
    "    # model hyperparameter\n",
    "    hp_units = hp.Int('units', min_value=32, max_value=512, step=32) # 32~512에서 32 단위로 최적 값 탐색\n",
    "    model.add(keras.layers.Dense(units=hp_units, activation='relu')) # 이 레이어에서 최적 값 찾을 것\n",
    "    model.add(keras.layers.Dense(10)) # 10 classes\n",
    "    # set model architecture + hyperparameter search space \n",
    "\n",
    "    # algorithm hyperparameter\n",
    "    hp_learning_rate = hp.Choice('learning_rate', values=[1e-2, 1e-3, 1e-4]) # 3개 중 최적 값 탐색 \n",
    "    model.compile(optimizer=keras.optimizers.Adam(learning_rate=hp_learning_rate),\n",
    "                  loss=keras.losses.SparseCategoricalCrossentropy(from_logits=True),\n",
    "                  metrics=['accuracy'])\n",
    "    \n",
    "    return model"
   ]
  },
  {
   "cell_type": "markdown",
   "metadata": {},
   "source": [
    "keras Tuner가 사용 가능한 tuner들: RandomSearch, Hyperband, BayesianOptimization, Sklearn -> hyperband를 예시로\n",
    "- hyperband tuner를 instantiate하려면 hypermodel(최적화할 objective와 max_epochs)를 정해야 함"
   ]
  },
  {
   "cell_type": "code",
   "execution_count": 9,
   "metadata": {},
   "outputs": [],
   "source": [
    "tuner = kt.Hyperband(model_builder, objective='val_accuracy', max_epochs=10, factor=3, \n",
    "                     directory='my_dir', project_name='intro_to_kt')\n",
    "# tuner: hyperparameter를 어떻게 찾아갈 것인가? "
   ]
  },
  {
   "cell_type": "markdown",
   "metadata": {},
   "source": [
    "adaptive resource allocation & early stopping -> 빠르게 수렴 (성능 좋아야 다음 라운드로 전달 )"
   ]
  },
  {
   "cell_type": "code",
   "execution_count": 10,
   "metadata": {},
   "outputs": [],
   "source": [
    "class ClearTrainingOutput(tf.keras.callbacks.Callback):\n",
    "    def on_train_end(*args, **kwargs):\n",
    "        IPython.display.clear_output(wait=True)"
   ]
  },
  {
   "cell_type": "code",
   "execution_count": 11,
   "metadata": {
    "scrolled": false
   },
   "outputs": [
    {
     "name": "stdout",
     "output_type": "stream",
     "text": [
      "Trial 30 Complete [00h 00m 17s]\n",
      "val_accuracy: 0.8835999965667725\n",
      "\n",
      "Best val_accuracy So Far: 0.8835999965667725\n",
      "Total elapsed time: 00h 05m 22s\n",
      "INFO:tensorflow:Oracle triggered exit\n"
     ]
    }
   ],
   "source": [
    "tuner.search(img_train, label_train, epochs=10, validation_data=(img_test, label_test), \n",
    "             callbacks=[ClearTrainingOutput()])"
   ]
  },
  {
   "cell_type": "code",
   "execution_count": 12,
   "metadata": {},
   "outputs": [],
   "source": [
    "best_hps = tuner.get_best_hyperparameters(num_trials=1)[0]"
   ]
  },
  {
   "cell_type": "code",
   "execution_count": 15,
   "metadata": {},
   "outputs": [],
   "source": [
    "model = tuner.hypermodel.build(best_hps)"
   ]
  },
  {
   "cell_type": "code",
   "execution_count": 16,
   "metadata": {
    "scrolled": true
   },
   "outputs": [
    {
     "name": "stdout",
     "output_type": "stream",
     "text": [
      "Epoch 1/10\n",
      "1875/1875 [==============================] - 2s 884us/step - loss: 0.6304 - accuracy: 0.7803 - val_loss: 0.4313 - val_accuracy: 0.8471\n",
      "Epoch 2/10\n",
      "1875/1875 [==============================] - 2s 841us/step - loss: 0.3812 - accuracy: 0.8625 - val_loss: 0.3889 - val_accuracy: 0.8595\n",
      "Epoch 3/10\n",
      "1875/1875 [==============================] - 2s 826us/step - loss: 0.3353 - accuracy: 0.8768 - val_loss: 0.3876 - val_accuracy: 0.8590\n",
      "Epoch 4/10\n",
      "1875/1875 [==============================] - 2s 857us/step - loss: 0.3074 - accuracy: 0.8888 - val_loss: 0.3655 - val_accuracy: 0.8679\n",
      "Epoch 5/10\n",
      "1875/1875 [==============================] - 2s 829us/step - loss: 0.2944 - accuracy: 0.8904 - val_loss: 0.3905 - val_accuracy: 0.8610\n",
      "Epoch 6/10\n",
      "1875/1875 [==============================] - 2s 831us/step - loss: 0.2788 - accuracy: 0.8962 - val_loss: 0.3432 - val_accuracy: 0.8780\n",
      "Epoch 7/10\n",
      "1875/1875 [==============================] - 2s 835us/step - loss: 0.2653 - accuracy: 0.9014 - val_loss: 0.3438 - val_accuracy: 0.8730\n",
      "Epoch 8/10\n",
      "1875/1875 [==============================] - 2s 843us/step - loss: 0.2537 - accuracy: 0.9041 - val_loss: 0.3320 - val_accuracy: 0.8828\n",
      "Epoch 9/10\n",
      "1875/1875 [==============================] - 2s 848us/step - loss: 0.2392 - accuracy: 0.9118 - val_loss: 0.3455 - val_accuracy: 0.8754\n",
      "Epoch 10/10\n",
      "1875/1875 [==============================] - 2s 832us/step - loss: 0.2321 - accuracy: 0.9133 - val_loss: 0.3352 - val_accuracy: 0.8832\n"
     ]
    },
    {
     "data": {
      "text/plain": [
       "<tensorflow.python.keras.callbacks.History at 0x159fdcc10>"
      ]
     },
     "execution_count": 16,
     "metadata": {},
     "output_type": "execute_result"
    }
   ],
   "source": [
    "model.fit(img_train, label_train, epochs=10, validation_data=(img_test, label_test))"
   ]
  },
  {
   "cell_type": "markdown",
   "metadata": {},
   "source": [
    "- my_dir/intro_to_kt 디렉토리에는 하이퍼 파라미터 검색 중에 실행 된 모든 시험 (모델 구성)에 대한 자세한 로그와 체크 포인트가 포함되어 있습니다. \n",
    "- 하이퍼 파라미터 검색을 다시 실행하면 Keras Tuner는 이러한 로그의 기존 상태를 사용하여 검색을 재개합니다. \n",
    "- 이 동작을 비활성화하려면 튜너를 인스턴스화하는 동안 추가 overwrite = True 인수를 전달하십시오."
   ]
  },
  {
   "cell_type": "code",
   "execution_count": null,
   "metadata": {},
   "outputs": [],
   "source": []
  }
 ],
 "metadata": {
  "kernelspec": {
   "display_name": "Python 3",
   "language": "python",
   "name": "python3"
  },
  "language_info": {
   "codemirror_mode": {
    "name": "ipython",
    "version": 3
   },
   "file_extension": ".py",
   "mimetype": "text/x-python",
   "name": "python",
   "nbconvert_exporter": "python",
   "pygments_lexer": "ipython3",
   "version": "3.7.7"
  }
 },
 "nbformat": 4,
 "nbformat_minor": 4
}
