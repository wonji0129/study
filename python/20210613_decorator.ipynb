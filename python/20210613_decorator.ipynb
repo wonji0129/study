{
 "cells": [
  {
   "cell_type": "markdown",
   "metadata": {},
   "source": [
    "# Decorator \n",
    "[참고] https://bluese05.tistory.com/30\n",
    "\n",
    "부가적인 구문을 반복해서 사용하고 싶은 경우"
   ]
  },
  {
   "cell_type": "code",
   "execution_count": 1,
   "metadata": {},
   "outputs": [],
   "source": [
    "import datetime "
   ]
  },
  {
   "cell_type": "markdown",
   "metadata": {},
   "source": [
    "### 함수 단위의 decorator 쓰는 법 \n",
    "decorator 역할 함수를 먼저 정의하는데\n",
    "- decorator가 적용될 함수(A)를 인자로 받고\n",
    "- (반복될 내용의) nested 함수(B)를 정의하여\n",
    "- A를 포함한 nested 함수 B를 return\n",
    "\n",
    "decorator가 적용될 함수 전에 @decorator를 작성하고 함수를 정의 "
   ]
  },
  {
   "cell_type": "code",
   "execution_count": 3,
   "metadata": {},
   "outputs": [],
   "source": [
    "def main_func_1():\n",
    "    print(datetime.datetime.now())\n",
    "    print('main function 1')\n",
    "    print(datetime.datetime.now())\n",
    "    \n",
    "def main_func_2():\n",
    "    print(datetime.datetime.now())\n",
    "    print('main function 2')\n",
    "    print(datetime.datetime.now())\n",
    "    \n",
    "def main_func_3():\n",
    "    print(datetime.datetime.now())\n",
    "    print('main function 3')\n",
    "    print(datetime.datetime.now())"
   ]
  },
  {
   "cell_type": "code",
   "execution_count": 5,
   "metadata": {},
   "outputs": [],
   "source": [
    "def datetime_decorator(func):\n",
    "    def decorated():\n",
    "        print(datetime.datetime.now())\n",
    "        func()\n",
    "        print(datetime.datetime.now())\n",
    "    return decorated\n",
    "\n",
    "@datetime_decorator\n",
    "def main_func_1():\n",
    "    print('main function 1')\n",
    "\n",
    "@datetime_decorator    \n",
    "def main_func_2():\n",
    "    print('main function 2')\n",
    "\n",
    "@datetime_decorator\n",
    "def main_func_3():\n",
    "    print('main function 3')"
   ]
  },
  {
   "cell_type": "code",
   "execution_count": 6,
   "metadata": {},
   "outputs": [
    {
     "name": "stdout",
     "output_type": "stream",
     "text": [
      "2021-06-13 20:31:49.381047\n",
      "main function 3\n",
      "2021-06-13 20:31:49.381259\n"
     ]
    }
   ],
   "source": [
    "main_func_3()"
   ]
  },
  {
   "cell_type": "markdown",
   "metadata": {},
   "source": [
    "### 클래스 단위 decorator 쓰는 법 "
   ]
  },
  {
   "cell_type": "code",
   "execution_count": 8,
   "metadata": {},
   "outputs": [],
   "source": [
    "class DatetimeDecorator:\n",
    "    def __init__(self, f):\n",
    "        self.func = f\n",
    "    \n",
    "    def __call__(self, *args, **kwargs):\n",
    "        print(datetime.datetime.now())\n",
    "        self.func(*args, **kwargs)\n",
    "        print(datetime.datetime.now())"
   ]
  },
  {
   "cell_type": "code",
   "execution_count": 9,
   "metadata": {},
   "outputs": [],
   "source": [
    "class MainClass:\n",
    "    @DatetimeDecorator\n",
    "    def main_func_1():\n",
    "        print('main function 1')\n",
    "\n",
    "    @DatetimeDecorator\n",
    "    def main_func_2():\n",
    "        print('main function 2')\n",
    "\n",
    "    @DatetimeDecorator\n",
    "    def main_func_3():\n",
    "        print('main function 3')"
   ]
  },
  {
   "cell_type": "code",
   "execution_count": 10,
   "metadata": {},
   "outputs": [
    {
     "name": "stdout",
     "output_type": "stream",
     "text": [
      "2021-06-13 20:45:46.709802\n",
      "main function 1\n",
      "2021-06-13 20:45:46.709883\n"
     ]
    }
   ],
   "source": [
    "m = MainClass()\n",
    "m.main_func_1()"
   ]
  },
  {
   "cell_type": "markdown",
   "metadata": {},
   "source": [
    "#### 클래스 단위 decorator 예시를 더 보자\n",
    "https://itselfstory.tistory.com/entry/%ED%8C%8C%EC%9D%B4%EC%8D%AC-%EB%8D%B0%EC%BD%94%EB%A0%88%EC%9D%B4%ED%84%B0-%EB%94%94%EC%9E%90%EC%9D%B8-%ED%8C%A8%ED%84%B4-Decorator-Pattern-in-Python"
   ]
  },
  {
   "cell_type": "code",
   "execution_count": 12,
   "metadata": {},
   "outputs": [],
   "source": [
    "from abc import ABCMeta, abstractmethod"
   ]
  },
  {
   "cell_type": "code",
   "execution_count": 15,
   "metadata": {},
   "outputs": [],
   "source": [
    "class Beverage(object):\n",
    "    __metaclass__ = ABCMeta\n",
    "    \n",
    "    def __init__(self):\n",
    "        self.description = \"Null\"\n",
    "        \n",
    "    def get_description(self):\n",
    "        return self.description\n",
    "    @abstractmethod\n",
    "    def cost(self):\n",
    "        pass"
   ]
  },
  {
   "cell_type": "code",
   "execution_count": 18,
   "metadata": {},
   "outputs": [],
   "source": [
    "class Americano(Beverage):\n",
    "    def __init__(self):\n",
    "        self.description = \"Americano\"\n",
    "    \n",
    "    def cost(self):\n",
    "        return 1.99"
   ]
  },
  {
   "cell_type": "code",
   "execution_count": 19,
   "metadata": {},
   "outputs": [],
   "source": [
    "class CondimentDecorator(Beverage):\n",
    "    __metaclass__ = ABCMeta\n",
    "    @abstractmethod\n",
    "    def get_description(self):\n",
    "        pass"
   ]
  },
  {
   "cell_type": "code",
   "execution_count": 20,
   "metadata": {},
   "outputs": [],
   "source": [
    "class Soy(CondimentDecorator):\n",
    "    def __init__(self, beverage):\n",
    "        self.beverage = beverage\n",
    "    \n",
    "    def get_description(self):\n",
    "        return self.beverage.get_description() + \", soy\"\n",
    "    \n",
    "    def cost(self):\n",
    "        return self.beverage.cost() + 0.5"
   ]
  },
  {
   "cell_type": "code",
   "execution_count": 21,
   "metadata": {},
   "outputs": [],
   "source": [
    "a = Americano()\n",
    "a_soy = Soy(a)"
   ]
  },
  {
   "cell_type": "code",
   "execution_count": 22,
   "metadata": {},
   "outputs": [
    {
     "data": {
      "text/plain": [
       "2.49"
      ]
     },
     "execution_count": 22,
     "metadata": {},
     "output_type": "execute_result"
    }
   ],
   "source": [
    "a_soy.cost()"
   ]
  },
  {
   "cell_type": "markdown",
   "metadata": {},
   "source": [
    "#### 익숙하지 않으므로 한 번 더..\n",
    "https://lovablebaby1015.wordpress.com/2019/11/06/python-decorator-pattern/\n",
    "\n",
    "- 특정 함수를 이미 만들어 놨고 그 함수를 가지고 활용하는 경우가 이미 많은데, 추가기능을 부여해야 할 때가 있습니다. 그 때 사용한다고 합니다.\n",
    "- getter, setter의 중복적인 사용을 막습니다."
   ]
  },
  {
   "cell_type": "code",
   "execution_count": 2,
   "metadata": {},
   "outputs": [],
   "source": [
    "def greets():\n",
    "    print('greets_first')\n",
    "    print('greets')\n",
    "    print('greets_last')\n",
    "\n",
    "def eats():\n",
    "    print('eats_first')\n",
    "    print('eats')\n",
    "    print('eats_last')"
   ]
  },
  {
   "cell_type": "code",
   "execution_count": 3,
   "metadata": {},
   "outputs": [],
   "source": [
    "def trace(func):\n",
    "    def wrapper():\n",
    "        print(func.__name__, '_first')\n",
    "        func()\n",
    "        print(func.__name__, '_last')\n",
    "    return wrapper"
   ]
  },
  {
   "cell_type": "code",
   "execution_count": 4,
   "metadata": {},
   "outputs": [],
   "source": [
    "@trace\n",
    "def greets():\n",
    "    print('greets')"
   ]
  },
  {
   "cell_type": "code",
   "execution_count": null,
   "metadata": {},
   "outputs": [],
   "source": []
  }
 ],
 "metadata": {
  "kernelspec": {
   "display_name": "Python 3",
   "language": "python",
   "name": "python3"
  },
  "language_info": {
   "codemirror_mode": {
    "name": "ipython",
    "version": 3
   },
   "file_extension": ".py",
   "mimetype": "text/x-python",
   "name": "python",
   "nbconvert_exporter": "python",
   "pygments_lexer": "ipython3",
   "version": "3.7.7"
  }
 },
 "nbformat": 4,
 "nbformat_minor": 4
}
