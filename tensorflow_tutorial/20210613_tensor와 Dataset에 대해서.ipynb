{
 "cells": [
  {
   "cell_type": "markdown",
   "metadata": {},
   "source": [
    "# TF의 자료형\n",
    "\n",
    "[참고]\n",
    "https://www.tensorflow.org/\n",
    "https://cyc1am3n.github.io/2018/09/13/how-to-use-dataset-in-tensorflow.html\n",
    "https://umbum.tistory.com/260\n",
    "\n",
    "\n",
    "#### tensor: 일종의 np.array\n",
    "- 같은 축에서는 같은 크기를 가져야 함 (rectangular해야 함) \n",
    "- 단, Ragged tensors와 Sparse tensors에 한해서는 다른 크기를 허용한다. \n",
    "\n",
    "#### Dataset: 모델에 데이터를 효율적으로 제공하기 위한 input pipeline용 API\n",
    "- 데이터 불러오기 > Iterator 생성 > 데이터 사용 \n",
    "- threading과 queue를 편하게 만든 것 "
   ]
  },
  {
   "cell_type": "code",
   "execution_count": 1,
   "metadata": {},
   "outputs": [],
   "source": [
    "import numpy as np\n",
    "import tensorflow as tf "
   ]
  },
  {
   "cell_type": "code",
   "execution_count": 3,
   "metadata": {},
   "outputs": [],
   "source": [
    "# numpy에서 데이터 불러오기 \n",
    "x = np.random.sample((100,2))\n",
    "dataset = tf.data.Dataset.from_tensor_slices(x)\n",
    "\n",
    "# tensor에서 데이터 불러오기\n",
    "dataset = tf.data.Dataset.from_tensor_slices(tf.random.uniform([100, 2]))"
   ]
  },
  {
   "cell_type": "markdown",
   "metadata": {},
   "source": [
    "Dataset을 생성하고 나면 어떻게 데이터를 받을 수 있을까?\n",
    "이 때는 Iterator를 사용해서 dataset을 통해 iterate하고 데이터에서 실제 값을 받아올 수 있다.\n",
    "\n",
    "1. One shot. 한 번만 iterate / 데이터 추가 불가\n",
    "2. Initializable. feed-dict를 통해서 초기화 연산 호출과 새로운 데이터 전달을 동적으로 변경할 수 있다. feed-dict는 데이터를 담을 수 있는 버킷이다.\n",
    "3. Reinitializable. 다른 Dataset을 통해서 초기화 될 수 있다. 셔플과 같이 추가적인 변형이 필요한 training dataset과 testing dataset을 가지고 있을 때 효과적으로 쓸 수 있다. 마치 각기 다른 컨테이너를 고르는 타워 크레인같은 역할을 한다.\n",
    "4. Feedable. 사용하려는 iterator를 선택하는데 사용할 수 있다. 위의 비유와 연관지으면 타워 크레인을 고르는 타워 크레인이라고 할 수 있겠다. 필자의 의견으로는 쓸모가 없어보인다.\n",
    "\n"
   ]
  },
  {
   "cell_type": "markdown",
   "metadata": {},
   "source": [
    "tensorflow 1 -> 2로 가면서 session과 placeholder 사라짐.\n",
    "대신 @tf.function으로 함수 정의"
   ]
  },
  {
   "cell_type": "code",
   "execution_count": null,
   "metadata": {},
   "outputs": [],
   "source": []
  }
 ],
 "metadata": {
  "kernelspec": {
   "display_name": "Python 3",
   "language": "python",
   "name": "python3"
  },
  "language_info": {
   "codemirror_mode": {
    "name": "ipython",
    "version": 3
   },
   "file_extension": ".py",
   "mimetype": "text/x-python",
   "name": "python",
   "nbconvert_exporter": "python",
   "pygments_lexer": "ipython3",
   "version": "3.7.7"
  }
 },
 "nbformat": 4,
 "nbformat_minor": 4
}
